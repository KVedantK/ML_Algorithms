{
 "cells": [
  {
   "cell_type": "code",
   "execution_count": null,
   "metadata": {},
   "outputs": [],
   "source": [
    "import csv\n",
    "import random\n",
    "\n",
    "# Generate and write 1000 synthetic records\n",
    "with open(\"synthetic_salary_data.csv\", mode='w', newline='') as file:\n",
    "    writer = csv.writer(file)\n",
    "    writer.writerow(['YearsExperience', 'Salary'])\n",
    "\n",
    "    for _ in range(1000):\n",
    "        years_exp = round(random.uniform(0.5, 15.0), 2)\n",
    "        noise = random.uniform(-10000, 10000)\n",
    "        salary = round(30000 + 9000 * years_exp + noise, 2)\n",
    "        writer.writerow([years_exp, salary])\n",
    "\n",
    "print(\"✅ synthetic_salary_data.csv has been created with 1000 records.\")\n"
   ]
  }
 ],
 "metadata": {
  "language_info": {
   "name": "python"
  }
 },
 "nbformat": 4,
 "nbformat_minor": 2
}
