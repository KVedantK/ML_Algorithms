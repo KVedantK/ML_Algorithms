{
 "cells": [
  {
   "cell_type": "code",
   "execution_count": 1,
   "metadata": {},
   "outputs": [],
   "source": [
    "## Imports\n",
    "\n",
    "import numpy as np"
   ]
  },
  {
   "cell_type": "code",
   "execution_count": 2,
   "metadata": {},
   "outputs": [],
   "source": [
    "## Normal Equation is given by\n",
    "## theta = (X^T X)^-1 X^T Y\n",
    "\n",
    "def normal_equation(x, y):\n",
    "    theta = np.linalg.inv(x.T.dot(x)).dot(x.T).dot(y)\n",
    "    return theta\n",
    "\n",
    "x = np.array([[1], [2], [3], [4], [5]])\n",
    "y = np.array([1, 4, 9, 16, 25])\n",
    "\n",
    "x_b = np.c_[np.ones((x.shape[0], 1)), x]\n",
    "\n",
    "theta_ne = normal_equation(x_b, y)"
   ]
  },
  {
   "cell_type": "code",
   "execution_count": 3,
   "metadata": {},
   "outputs": [
    {
     "name": "stdout",
     "output_type": "stream",
     "text": [
      "[-7.  6.]\n"
     ]
    }
   ],
   "source": [
    "print(theta_ne)"
   ]
  },
  {
   "cell_type": "markdown",
   "metadata": {},
   "source": [
    "### Multi Feature Real Time Example\n",
    "\n",
    "#### Description:\n",
    "We are trying here an example where we have features not only as year of expirience but Years Experience, Education Level, City Tier, Age To calculate the salaries"
   ]
  },
  {
   "cell_type": "code",
   "execution_count": 2,
   "metadata": {},
   "outputs": [],
   "source": [
    "## Imports\n",
    "\n",
    "import numpy as np\n",
    "import pandas as pd\n",
    "from sklearn.preprocessing import StandardScaler\n",
    "import matplotlib.pyplot as plt"
   ]
  },
  {
   "cell_type": "code",
   "execution_count": 1,
   "metadata": {},
   "outputs": [],
   "source": [
    "## Normal Equation Function\n",
    "\n",
    "def normal_equation(x, y):\n",
    "    theta = np.linalg.inv(x.T.dot(x)).dot(x.T).dot(y)\n",
    "    return theta"
   ]
  },
  {
   "cell_type": "code",
   "execution_count": 4,
   "metadata": {},
   "outputs": [],
   "source": [
    "## Preparing the data set\n",
    "\n",
    "# Load the dataset\n",
    "df = pd.read_csv(\"multi_feature_salary_data.csv\")\n",
    "\n",
    "# Separate features and target\n",
    "X = df[[\"YearsExperience\", \"EducationLevel\", \"CityTier\", \"Age\"]].values\n",
    "y = df[\"Salary\"].values\n",
    "\n",
    "# Feature Scaling\n",
    "scaler = StandardScaler()\n",
    "X_scaled = scaler.fit_transform(X)\n",
    "\n",
    "X_b = np.c_[np.ones((X_scaled.shape[0], 1)), X_scaled]\n",
    "\n",
    "theta_new = normal_equation(X_b, y)"
   ]
  },
  {
   "cell_type": "code",
   "execution_count": 5,
   "metadata": {},
   "outputs": [
    {
     "name": "stdout",
     "output_type": "stream",
     "text": [
      "[83489.0755     20010.16245782  4893.62515858 -1864.94697883\n",
      "  1730.00277302]\n"
     ]
    }
   ],
   "source": [
    "print(theta_new)"
   ]
  },
  {
   "cell_type": "code",
   "execution_count": 6,
   "metadata": {},
   "outputs": [
    {
     "name": "stdout",
     "output_type": "stream",
     "text": [
      "Predicted salary for new sample: 58567.06\n"
     ]
    }
   ],
   "source": [
    "new_sample = np.array([[2.54,2,1,24.0]])\n",
    "new_sample_scaled = scaler.transform(new_sample)\n",
    "new_sample_b = np.c_[np.ones((1, 1)), new_sample_scaled]\n",
    "\n",
    "y_pred = new_sample_b.dot(theta_new)\n",
    "print(\"Predicted salary for new sample:\", round(y_pred[0], 2))"
   ]
  }
 ],
 "metadata": {
  "kernelspec": {
   "display_name": "Python 3",
   "language": "python",
   "name": "python3"
  },
  "language_info": {
   "codemirror_mode": {
    "name": "ipython",
    "version": 3
   },
   "file_extension": ".py",
   "mimetype": "text/x-python",
   "name": "python",
   "nbconvert_exporter": "python",
   "pygments_lexer": "ipython3",
   "version": "3.12.10"
  }
 },
 "nbformat": 4,
 "nbformat_minor": 2
}
